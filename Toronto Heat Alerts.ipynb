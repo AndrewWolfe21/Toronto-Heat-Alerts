{
 "cells": [
  {
   "cell_type": "code",
   "execution_count": 123,
   "metadata": {
    "collapsed": false
   },
   "outputs": [],
   "source": [
    "from urllib2 import Request, urlopen\n",
    "import pandas as pd\n",
    "import numpy as np\n",
    "import matplotlib.pyplot as plt\n",
    "%matplotlib inline\n",
    "\n",
    "#Get the data from the Toronto Open Data Website\n",
    "request=Request('http://app.toronto.ca/opendata/heat_alerts/heat_alerts_list.json')\n",
    "response = urlopen(request)\n",
    "heatData = response.read()\n",
    "\n",
    "#EHAE = Continued Extended Heat Warning\n",
    "#HAU = Upgraded Heat Warning to an Extended Heat Warning\n",
    "#HAE = Continued Heat Warning\n",
    "#HA = Heat Warning\n",
    "#EHA = Extended Heat Warning\n",
    "#EHAD = Downgraded Extreme Heat Warning to a Heat Warning"
   ]
  },
  {
   "cell_type": "code",
   "execution_count": 124,
   "metadata": {
    "collapsed": false
   },
   "outputs": [
    {
     "data": {
      "text/html": [
       "<div>\n",
       "<table border=\"1\" class=\"dataframe\">\n",
       "  <thead>\n",
       "    <tr style=\"text-align: right;\">\n",
       "      <th></th>\n",
       "      <th>code</th>\n",
       "      <th>date</th>\n",
       "      <th>id</th>\n",
       "      <th>text</th>\n",
       "    </tr>\n",
       "  </thead>\n",
       "  <tbody>\n",
       "    <tr>\n",
       "      <th>0</th>\n",
       "      <td>EHAE</td>\n",
       "      <td>2017-09-26</td>\n",
       "      <td>242</td>\n",
       "      <td>Toronto's Medical Officer of Health has contin...</td>\n",
       "    </tr>\n",
       "    <tr>\n",
       "      <th>1</th>\n",
       "      <td>HAU</td>\n",
       "      <td>2017-09-25</td>\n",
       "      <td>241</td>\n",
       "      <td>Toronto's Medical Officer of Health has upgrad...</td>\n",
       "    </tr>\n",
       "    <tr>\n",
       "      <th>2</th>\n",
       "      <td>HAE</td>\n",
       "      <td>2017-09-24</td>\n",
       "      <td>240</td>\n",
       "      <td>Toronto's Medical Officer of Health has contin...</td>\n",
       "    </tr>\n",
       "    <tr>\n",
       "      <th>3</th>\n",
       "      <td>HA</td>\n",
       "      <td>2017-09-23</td>\n",
       "      <td>239</td>\n",
       "      <td>Toronto's Medical Officer of Health has issued...</td>\n",
       "    </tr>\n",
       "    <tr>\n",
       "      <th>4</th>\n",
       "      <td>HA</td>\n",
       "      <td>2017-06-17</td>\n",
       "      <td>237</td>\n",
       "      <td>Toronto's Medical Officer of Health has issued...</td>\n",
       "    </tr>\n",
       "  </tbody>\n",
       "</table>\n",
       "</div>"
      ],
      "text/plain": [
       "   code       date   id                                               text\n",
       "0  EHAE 2017-09-26  242  Toronto's Medical Officer of Health has contin...\n",
       "1   HAU 2017-09-25  241  Toronto's Medical Officer of Health has upgrad...\n",
       "2   HAE 2017-09-24  240  Toronto's Medical Officer of Health has contin...\n",
       "3    HA 2017-09-23  239  Toronto's Medical Officer of Health has issued...\n",
       "4    HA 2017-06-17  237  Toronto's Medical Officer of Health has issued..."
      ]
     },
     "execution_count": 124,
     "metadata": {},
     "output_type": "execute_result"
    }
   ],
   "source": [
    "data = pd.read_json(heatData)\n",
    "\n",
    "#Preview\n",
    "data.head()"
   ]
  },
  {
   "cell_type": "code",
   "execution_count": 125,
   "metadata": {
    "collapsed": false
   },
   "outputs": [
    {
     "data": {
      "text/plain": [
       "count     207\n",
       "unique      6\n",
       "top        HA\n",
       "freq       96\n",
       "Name: code, dtype: object"
      ]
     },
     "execution_count": 125,
     "metadata": {},
     "output_type": "execute_result"
    }
   ],
   "source": [
    "#Quick Analysis\n",
    "data['code'].describe()"
   ]
  },
  {
   "cell_type": "code",
   "execution_count": 126,
   "metadata": {
    "collapsed": false
   },
   "outputs": [
    {
     "data": {
      "text/plain": [
       "count                     207\n",
       "unique                    207\n",
       "top       2015-07-19 00:00:00\n",
       "freq                        1\n",
       "first     2001-06-15 00:00:00\n",
       "last      2017-09-26 00:00:00\n",
       "Name: date, dtype: object"
      ]
     },
     "execution_count": 126,
     "metadata": {},
     "output_type": "execute_result"
    }
   ],
   "source": [
    "data['date'].describe()"
   ]
  },
  {
   "cell_type": "code",
   "execution_count": 127,
   "metadata": {
    "collapsed": false
   },
   "outputs": [
    {
     "data": {
      "text/plain": [
       "code\n",
       "EHA     59\n",
       "EHAD     1\n",
       "EHAE    19\n",
       "HA      96\n",
       "HAE     18\n",
       "dtype: int64"
      ]
     },
     "execution_count": 127,
     "metadata": {},
     "output_type": "execute_result"
    }
   ],
   "source": [
    "#Counts of Number of Codes\n",
    "countsCodes = data.groupby('code').size()\n",
    "countsCodes.head()"
   ]
  },
  {
   "cell_type": "code",
   "execution_count": 128,
   "metadata": {
    "collapsed": false
   },
   "outputs": [
    {
     "data": {
      "image/png": "[encoded data removed]",
      "text/plain": [
       "<matplotlib.figure.Figure at 0x11a001a10>"
      ]
     },
     "metadata": {},
     "output_type": "display_data"
    }
   ],
   "source": [
    "#Number of heat alerts by code since 2001\n",
    "\n",
    "codePlot = countsCodes.plot(kind='bar',title=\"Number of Heat Alerts by Code Since 2001\")\n",
    "plt.show()"
   ]
  },
  {
   "cell_type": "code",
   "execution_count": 129,
   "metadata": {
    "collapsed": false
   },
   "outputs": [
    {
     "data": {
      "image/png": "[encoded data removed]",
      "text/plain": [
       "<matplotlib.figure.Figure at 0x114a62c50>"
      ]
     },
     "metadata": {},
     "output_type": "display_data"
    }
   ],
   "source": [
    "#Number of heat alerts in total by year since 2001\n",
    "\n",
    "data['year'] = data['date'].dt.year\n",
    "#data.head()\n",
    "countsCodes = data.groupby('year').size()\n",
    "#countsCodes.head()\n",
    "codePlot = countsCodes.plot(kind='bar',title='Number of Heat Alerts by Year Since 2001')\n",
    "plt.show()"
   ]
  },
  {
   "cell_type": "code",
   "execution_count": 131,
   "metadata": {
    "collapsed": false
   },
   "outputs": [
    {
     "data": {
      "text/plain": [
       "<matplotlib.legend.Legend at 0x11c939750>"
      ]
     },
     "execution_count": 131,
     "metadata": {},
     "output_type": "execute_result"
    },
    {
     "data": {
      "image/png": "[encoded data removed]",
      "text/plain": [
       "<matplotlib.figure.Figure at 0x11c9b55d0>"
      ]
     },
     "metadata": {},
     "output_type": "display_data"
    }
   ],
   "source": [
    "#Number of heat alerts by year and code since 2001\n",
    "\n",
    "codeGroupYear = data.groupby(['year','code']).size()\n",
    "#codeGroupYear.unstack().head()\n",
    "codeGroupYearPlot = codeGroupYear.unstack().plot(kind='bar',stacked=True)\n",
    "codeGroupYearPlot.legend([\"EHA\",\"EHAD\",\"EHAE\",\"HA\",\"HAE\",\"HAU\"],loc=9,ncol=6)"
   ]
  }
 ],
 "metadata": {
  "kernelspec": {
   "display_name": "Python 2",
   "language": "python",
   "name": "python2"
  },
  "language_info": {
   "codemirror_mode": {
    "name": "ipython",
    "version": 2
   },
   "file_extension": ".py",
   "mimetype": "text/x-python",
   "name": "python",
   "nbconvert_exporter": "python",
   "pygments_lexer": "ipython2",
   "version": "2.7.11"
  }
 },
 "nbformat": 4,
 "nbformat_minor": 0
}
